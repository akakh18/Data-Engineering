{
 "cells": [
  {
   "cell_type": "code",
   "execution_count": 1,
   "metadata": {
    "colab": {
     "base_uri": "https://localhost:8080/"
    },
    "id": "DHT2Hrq5LYAq",
    "outputId": "99b9f949-b4e5-44b1-ce3b-7d1b82c47b59"
   },
   "outputs": [
    {
     "name": "stdout",
     "output_type": "stream",
     "text": [
      "Defaulting to user installation because normal site-packages is not writeable\r\n",
      "Requirement already satisfied: pyspark in /home/avto/.local/lib/python3.8/site-packages (3.2.0)\r\n",
      "Requirement already satisfied: py4j==0.10.9.2 in /home/avto/.local/lib/python3.8/site-packages (from pyspark) (0.10.9.2)\r\n"
     ]
    }
   ],
   "source": [
    "!pip install pyspark"
   ]
  },
  {
   "cell_type": "code",
   "execution_count": 2,
   "metadata": {
    "id": "_UXglUP8L3fX"
   },
   "outputs": [
    {
     "name": "stderr",
     "output_type": "stream",
     "text": [
      "22/02/06 14:04:18 WARN Utils: Your hostname, avto-HP-Laptop resolves to a loopback address: 127.0.1.1; using 192.168.100.12 instead (on interface wlo1)\n",
      "22/02/06 14:04:18 WARN Utils: Set SPARK_LOCAL_IP if you need to bind to another address\n",
      "WARNING: An illegal reflective access operation has occurred\n",
      "WARNING: Illegal reflective access by org.apache.spark.unsafe.Platform (file:/home/avto/.local/lib/python3.8/site-packages/pyspark/jars/spark-unsafe_2.12-3.2.0.jar) to constructor java.nio.DirectByteBuffer(long,int)\n",
      "WARNING: Please consider reporting this to the maintainers of org.apache.spark.unsafe.Platform\n",
      "WARNING: Use --illegal-access=warn to enable warnings of further illegal reflective access operations\n",
      "WARNING: All illegal access operations will be denied in a future release\n",
      "Using Spark's default log4j profile: org/apache/spark/log4j-defaults.properties\n",
      "Setting default log level to \"WARN\".\n",
      "To adjust logging level use sc.setLogLevel(newLevel). For SparkR, use setLogLevel(newLevel).\n",
      "22/02/06 14:04:19 WARN NativeCodeLoader: Unable to load native-hadoop library for your platform... using builtin-java classes where applicable\n"
     ]
    }
   ],
   "source": [
    "from pyspark.sql import SparkSession\n",
    "\n",
    "app_name = 'final_project'\n",
    "\n",
    "spark = SparkSession\\\n",
    "  .builder\\\n",
    "  .appName(app_name)\\\n",
    "  .getOrCreate()"
   ]
  },
  {
   "cell_type": "markdown",
   "metadata": {
    "id": "lA8wU9HvM3JL"
   },
   "source": [
    "# Credits"
   ]
  },
  {
   "cell_type": "code",
   "execution_count": 3,
   "metadata": {
    "colab": {
     "base_uri": "https://localhost:8080/"
    },
    "id": "ZqploEK_Mxm8",
    "outputId": "cf6b2c2e-44ab-4762-f183-843f3fa5021f"
   },
   "outputs": [],
   "source": [
    "import pyspark.sql.functions as f\n",
    "\n",
    "from pyspark.sql.types import *\n",
    "\n",
    "cast_schema = ArrayType(StructType([StructField('cast_id',IntegerType(),True),\n",
    "                        StructField('character',StringType(),True),\n",
    "                        StructField('credit_id',StringType(),True),\n",
    "                        StructField('gender',IntegerType(),True),\n",
    "                        StructField('id',IntegerType(),True),\n",
    "                        StructField('name',StringType(),True),\n",
    "                        StructField('order',IntegerType(),True),\n",
    "                        StructField('profile_path',StringType(),True)]))\n",
    "\n",
    "\n",
    "# Remove escape chars; Python None to JSON null\n",
    "creds = spark\\\n",
    "      .read\\\n",
    "      .option(\"quote\", \"\\\"\")\\\n",
    "      .option(\"escape\", \"\\\"\")\\\n",
    "      .csv('credits.csv', header=True)\\\n",
    "      .withColumn('cast', f.regexp_replace(f.col('cast'), ': None', ': null'))\\\n",
    "      .withColumn('cast', f.regexp_replace(f.col('cast'), \"\\\\\\\\'\", \"\"))\\\n",
    "      .withColumn('cast', f.regexp_replace(f.col('cast'), \"\\\\\\\\\", \"\"))\n",
    "\n",
    "\n",
    "creds = creds\\\n",
    "  .withColumn('cast_members', f.from_json(creds.cast, cast_schema))\n",
    "\n",
    "# Records that have schema issues:\n",
    "\n",
    "rec_with_issues = creds.where(f.col('cast_members').isNull())\n",
    "\n",
    "# print(rec_with_issues.count())\n",
    "# rec_with_issues.show()\n",
    "# creds.show()"
   ]
  },
  {
   "cell_type": "code",
   "execution_count": 4,
   "metadata": {
    "colab": {
     "base_uri": "https://localhost:8080/"
    },
    "id": "7x651_IBPTi_",
    "outputId": "c3fa47ee-954b-4870-862d-0b559a560d8b"
   },
   "outputs": [
    {
     "name": "stdout",
     "output_type": "stream",
     "text": [
      "root\n",
      " |-- cast: string (nullable = true)\n",
      " |-- crew: string (nullable = true)\n",
      " |-- id: string (nullable = true)\n",
      " |-- cast_members: array (nullable = true)\n",
      " |    |-- element: struct (containsNull = true)\n",
      " |    |    |-- cast_id: integer (nullable = true)\n",
      " |    |    |-- character: string (nullable = true)\n",
      " |    |    |-- credit_id: string (nullable = true)\n",
      " |    |    |-- gender: integer (nullable = true)\n",
      " |    |    |-- id: integer (nullable = true)\n",
      " |    |    |-- name: string (nullable = true)\n",
      " |    |    |-- order: integer (nullable = true)\n",
      " |    |    |-- profile_path: string (nullable = true)\n",
      "\n"
     ]
    }
   ],
   "source": [
    "creds.printSchema()"
   ]
  },
  {
   "cell_type": "code",
   "execution_count": 5,
   "metadata": {
    "colab": {
     "base_uri": "https://localhost:8080/"
    },
    "id": "fpr5tEn3PINZ",
    "outputId": "52f2c43d-8e0d-4aa7-c282-ed65f5cd118b"
   },
   "outputs": [
    {
     "name": "stderr",
     "output_type": "stream",
     "text": [
      "[Stage 1:===================================>                     (10 + 6) / 16]\r"
     ]
    },
    {
     "name": "stdout",
     "output_type": "stream",
     "text": [
      "+------+---------------------+------+-------------------------------------------+-------+\n",
      "|id    |name                 |gender|character                                  |id     |\n",
      "+------+---------------------+------+-------------------------------------------+-------+\n",
      "|242575|  Jorge de los Reyes |0     |El Chiquis                                 |234067 |\n",
      "|25626 |  Liu Jin            |0     |Zhou Enlai                                 |589911 |\n",
      "|42968 | Alistair Freeland   |0     |Joel                                       |237082 |\n",
      "|278730| Antanas Barčas      |0     |Barzda                                     |1269226|\n",
      "|278730| Antanas Barčas      |0     |                                           |1269226|\n",
      "|42968 | Belen Blanco        |0     |Julia                                      |237081 |\n",
      "|127326| Belen Blanco        |0     |Silvia                                     |237081 |\n",
      "|66110 | Bill Bunten         |0     |Himself, Mayor, city of Topeka             |544639 |\n",
      "|82698 | Dippanita Sharma    |0     |Raina Parulekar (as Dipannita Sharma Atwal)|928649 |\n",
      "|82688 | Eduard Xatruch      |0     |Himself                                    |928600 |\n",
      "|110779| Franco Salamon      |0     |maestro d'armi                             |1050344|\n",
      "|2897  | Frank Nagai         |0     |Extra (uncredited)                         |135134 |\n",
      "|156717| Hlubi Mboya         |1     |Diabolos                                   |1287647|\n",
      "|214219| Hlubi Mboya         |1     |Gugu                                       |1287647|\n",
      "|83013 | Hong Soo-hyun       |0     |Yeo Hye-su                                 |1235477|\n",
      "|65726 | Juan Carlos Lara    |0     |David                                      |543965 |\n",
      "|157409| Juan Carlos Lara    |0     |Hanna                                      |543965 |\n",
      "|78056 | Larry Mullen Jr.    |2     |Himself                                    |82428  |\n",
      "|18161 | Larry Mullen Jr.    |2     |Larry Mullen Jr.                           |82428  |\n",
      "|212606| Larry Mullen Jr.    |2     |                                           |82428  |\n",
      "+------+---------------------+------+-------------------------------------------+-------+\n",
      "only showing top 20 rows\n",
      "\n"
     ]
    },
    {
     "name": "stderr",
     "output_type": "stream",
     "text": [
      "                                                                                \r"
     ]
    }
   ],
   "source": [
    "# Examples\n",
    "\n",
    "# creds\\\n",
    "#   .select('id', 'cast_members.name', 'cast_members.gender', 'cast_members.character')\\\n",
    "#   .show(1, vertical=True, truncate=False)\n",
    "\n",
    "\n",
    "# Arrays to individual records\n",
    "cast_members = creds\\\n",
    "  .withColumn('member', f.explode('cast_members'))\\\n",
    "  .select('id', 'member.name', 'member.gender', 'member.character', 'member.id').orderBy(f.col('name'))\\\n",
    "\n",
    "\n",
    "cast_members.show(20, vertical=False, truncate=False)"
   ]
  },
  {
   "cell_type": "markdown",
   "metadata": {
    "id": "CXF2NK-bOCaY"
   },
   "source": [
    "# Movies Metadata"
   ]
  },
  {
   "cell_type": "code",
   "execution_count": 6,
   "metadata": {
    "colab": {
     "base_uri": "https://localhost:8080/"
    },
    "id": "tY3k-ZLpOJiU",
    "outputId": "bacd67d8-2909-4fbb-ce0c-7903da5180f9"
   },
   "outputs": [
    {
     "name": "stdout",
     "output_type": "stream",
     "text": [
      "root\n",
      " |-- adult: string (nullable = true)\n",
      " |-- belongs_to_collection: string (nullable = true)\n",
      " |-- budget: string (nullable = true)\n",
      " |-- genres: string (nullable = true)\n",
      " |-- homepage: string (nullable = true)\n",
      " |-- id: string (nullable = true)\n",
      " |-- imdb_id: string (nullable = true)\n",
      " |-- original_language: string (nullable = true)\n",
      " |-- original_title: string (nullable = true)\n",
      " |-- overview: string (nullable = true)\n",
      " |-- popularity: string (nullable = true)\n",
      " |-- poster_path: string (nullable = true)\n",
      " |-- production_companies: string (nullable = true)\n",
      " |-- production_countries: string (nullable = true)\n",
      " |-- release_date: string (nullable = true)\n",
      " |-- revenue: string (nullable = true)\n",
      " |-- runtime: string (nullable = true)\n",
      " |-- spoken_languages: string (nullable = true)\n",
      " |-- status: string (nullable = true)\n",
      " |-- tagline: string (nullable = true)\n",
      " |-- title: string (nullable = true)\n",
      " |-- video: string (nullable = true)\n",
      " |-- vote_average: string (nullable = true)\n",
      " |-- vote_count: string (nullable = true)\n",
      "\n"
     ]
    }
   ],
   "source": [
    "meta = spark\\\n",
    "  .read\\\n",
    "  .option(\"multiLine\", \"true\")\\\n",
    "  .option(\"quote\", '\"')\\\n",
    "  .option(\"header\", \"true\")\\\n",
    "  .option(\"escape\", '\"')\\\n",
    "  .option(\"wholeFile\", True)\\\n",
    "  .csv(\"movies_metadata.csv\", header=True)\\\n",
    "\n",
    "# ამ სამ ჩანაწერს მართლა თავისი გაჭირვება აქვს და ჯობია, დავაიგნოროთ\n",
    "meta = meta\\\n",
    "  .where(\"imdb_id not in ('0', 'tt0113002', 'tt2423504', 'tt2622826')\")\n",
    "\n",
    "\n",
    "# ეს ნაწილი უკეთ გადააკეთეთ, მაგდენსაც აღარ დავწერთ :დ არაერთ ველზე დაგჭირდებათ escape character-ების ჩანაცვლება\n",
    "prod_countries = 'production_countries'\n",
    "meta = meta\\\n",
    "  .withColumn(prod_countries, f.regexp_replace(f.col(prod_countries), ': None', ': null')) \\\n",
    "  .withColumn(prod_countries, f.regexp_replace(f.col(prod_countries), \"\\\\\\\\'\", \" \"))\\\n",
    "  .withColumn(prod_countries, f.regexp_replace(f.col(prod_countries), \"\\\\\\\\\", \" \"))\n",
    "\n",
    "meta.printSchema()\n"
   ]
  },
  {
   "cell_type": "code",
   "execution_count": 7,
   "metadata": {
    "colab": {
     "base_uri": "https://localhost:8080/"
    },
    "id": "Jqogd3UrkwPq",
    "outputId": "bbdcf314-89ca-46dd-d420-ab6a6fda3308"
   },
   "outputs": [
    {
     "name": "stderr",
     "output_type": "stream",
     "text": [
      "                                                                                \r"
     ]
    },
    {
     "data": {
      "text/plain": [
       "ArrayType(StructType(List(StructField(iso_3166_1,StringType,true),StructField(name,StringType,true))),true)"
      ]
     },
     "execution_count": 7,
     "metadata": {},
     "output_type": "execute_result"
    }
   ],
   "source": [
    "prod_countries_schema = spark.read.json(meta.rdd.map(lambda row: row.production_countries)).schema\n",
    "\n",
    "# discard '_corrupt_record'\n",
    "# prod_countries_schema = StructType(list(prod_countries_schema)[1:])\n",
    "\n",
    "prod_countries_schema = ArrayType(prod_countries_schema)\n",
    "\n",
    "prod_countries_schema"
   ]
  },
  {
   "cell_type": "code",
   "execution_count": 8,
   "metadata": {
    "colab": {
     "base_uri": "https://localhost:8080/"
    },
    "id": "uiSDRto6ky2Z",
    "outputId": "32e3732f-d0d8-439e-e9bf-1294a9b78d80"
   },
   "outputs": [
    {
     "name": "stdout",
     "output_type": "stream",
     "text": [
      "0\n",
      "+-----+---------------------+------+------+--------+---+-------+-----------------+--------------+--------+----------+-----------+--------------------+--------------------+------------+-------+-------+----------------+------+-------+-----+-----+------------+----------+--------------+\n",
      "|adult|belongs_to_collection|budget|genres|homepage| id|imdb_id|original_language|original_title|overview|popularity|poster_path|production_companies|production_countries|release_date|revenue|runtime|spoken_languages|status|tagline|title|video|vote_average|vote_count|prod_countries|\n",
      "+-----+---------------------+------+------+--------+---+-------+-----------------+--------------+--------+----------+-----------+--------------------+--------------------+------------+-------+-------+----------------+------+-------+-----+-----+------------+----------+--------------+\n",
      "+-----+---------------------+------+------+--------+---+-------+-----------------+--------------+--------+----------+-----------+--------------------+--------------------+------------+-------+-------+----------------+------+-------+-----+-----+------------+----------+--------------+\n",
      "\n"
     ]
    }
   ],
   "source": [
    "meta = meta\\\n",
    "  .withColumn('prod_countries', f.from_json(f.col(prod_countries), prod_countries_schema))\n",
    "\n",
    "# Records that have schema issues:\n",
    "\n",
    "rec_with_issues = meta.where(f.col('prod_countries').isNull())\n",
    "\n",
    "print(rec_with_issues.count())\n",
    "rec_with_issues.show()"
   ]
  },
  {
   "cell_type": "code",
   "execution_count": 9,
   "metadata": {
    "colab": {
     "base_uri": "https://localhost:8080/"
    },
    "id": "vHiC6pvMk5Gd",
    "outputId": "e5341eb1-775d-4355-de19-fb278b7c4ab2"
   },
   "outputs": [
    {
     "name": "stdout",
     "output_type": "stream",
     "text": [
      "+-----+---------+--------------------------------------------------+------------------------------+\n",
      "|id   |imdb_id  |name                                              |title                         |\n",
      "+-----+---------+--------------------------------------------------+------------------------------+\n",
      "|862  |tt0114709|[United States of America]                        |Toy Story                     |\n",
      "|8844 |tt0113497|[United States of America]                        |Jumanji                       |\n",
      "|15602|tt0113228|[United States of America]                        |Grumpier Old Men              |\n",
      "|31357|tt0114885|[United States of America]                        |Waiting to Exhale             |\n",
      "|11862|tt0113041|[United States of America]                        |Father of the Bride Part II   |\n",
      "|949  |tt0113277|[United States of America]                        |Heat                          |\n",
      "|11860|tt0114319|[Germany, United States of America]               |Sabrina                       |\n",
      "|45325|tt0112302|[United States of America]                        |Tom and Huck                  |\n",
      "|9091 |tt0114576|[United States of America]                        |Sudden Death                  |\n",
      "|710  |tt0113189|[United Kingdom, United States of America]        |GoldenEye                     |\n",
      "|9087 |tt0112346|[United States of America]                        |The American President        |\n",
      "|12110|tt0112896|[France, United States of America]                |Dracula: Dead and Loving It   |\n",
      "|21032|tt0112453|[United States of America]                        |Balto                         |\n",
      "|10858|tt0113987|[United States of America]                        |Nixon                         |\n",
      "|1408 |tt0112760|[France, Germany, Italy, United States of America]|Cutthroat Island              |\n",
      "|524  |tt0112641|[France, United States of America]                |Casino                        |\n",
      "|4584 |tt0114388|[United Kingdom, United States of America]        |Sense and Sensibility         |\n",
      "|5    |tt0113101|[United States of America]                        |Four Rooms                    |\n",
      "|9273 |tt0112281|[United States of America]                        |Ace Ventura: When Nature Calls|\n",
      "|11517|tt0113845|[United States of America]                        |Money Train                   |\n",
      "+-----+---------+--------------------------------------------------+------------------------------+\n",
      "only showing top 20 rows\n",
      "\n"
     ]
    }
   ],
   "source": [
    "from pyspark.sql.functions import monotonically_increasing_id\n",
    "\n",
    "meta\\\n",
    "  .select('id', 'imdb_id', 'prod_countries.name', 'title')\\\n",
    "  .show(truncate=False)\n"
   ]
  },
  {
   "cell_type": "code",
   "execution_count": 10,
   "metadata": {
    "pycharm": {
     "name": "#%%\n"
    }
   },
   "outputs": [
    {
     "name": "stdout",
     "output_type": "stream",
     "text": [
      "+-----+--------------------+--------------------+\n",
      "|   id|               title|      original_title|\n",
      "+-----+--------------------+--------------------+\n",
      "|  862|           Toy Story|           Toy Story|\n",
      "| 8844|             Jumanji|             Jumanji|\n",
      "|15602|    Grumpier Old Men|    Grumpier Old Men|\n",
      "|31357|   Waiting to Exhale|   Waiting to Exhale|\n",
      "|11862|Father of the Bri...|Father of the Bri...|\n",
      "|  949|                Heat|                Heat|\n",
      "|11860|             Sabrina|             Sabrina|\n",
      "|45325|        Tom and Huck|        Tom and Huck|\n",
      "| 9091|        Sudden Death|        Sudden Death|\n",
      "|  710|           GoldenEye|           GoldenEye|\n",
      "| 9087|The American Pres...|The American Pres...|\n",
      "|12110|Dracula: Dead and...|Dracula: Dead and...|\n",
      "|21032|               Balto|               Balto|\n",
      "|10858|               Nixon|               Nixon|\n",
      "| 1408|    Cutthroat Island|    Cutthroat Island|\n",
      "|  524|              Casino|              Casino|\n",
      "| 4584|Sense and Sensibi...|Sense and Sensibi...|\n",
      "|    5|          Four Rooms|          Four Rooms|\n",
      "| 9273|Ace Ventura: When...|Ace Ventura: When...|\n",
      "|11517|         Money Train|         Money Train|\n",
      "+-----+--------------------+--------------------+\n",
      "only showing top 20 rows\n",
      "\n"
     ]
    }
   ],
   "source": [
    "\n",
    "# Films\n",
    "films = meta.select('id', 'title', 'original_title')\n",
    "\n",
    "films.show()"
   ]
  },
  {
   "cell_type": "code",
   "execution_count": 11,
   "metadata": {
    "pycharm": {
     "name": "#%%\n"
    }
   },
   "outputs": [
    {
     "name": "stdout",
     "output_type": "stream",
     "text": [
      "+----------+-------+--------------------+\n",
      "|country_id|film_id|                name|\n",
      "+----------+-------+--------------------+\n",
      "|         0|    862|United States of ...|\n",
      "|         1|   8844|United States of ...|\n",
      "|         2|  15602|United States of ...|\n",
      "|         3|  31357|United States of ...|\n",
      "|         4|  11862|United States of ...|\n",
      "|         5|    949|United States of ...|\n",
      "|         6|  11860|             Germany|\n",
      "|         7|  11860|United States of ...|\n",
      "|         8|  45325|United States of ...|\n",
      "|         9|   9091|United States of ...|\n",
      "|        10|    710|      United Kingdom|\n",
      "|        11|    710|United States of ...|\n",
      "|        12|   9087|United States of ...|\n",
      "|        13|  12110|              France|\n",
      "|        14|  12110|United States of ...|\n",
      "|        15|  21032|United States of ...|\n",
      "|        16|  10858|United States of ...|\n",
      "|        17|   1408|              France|\n",
      "|        18|   1408|             Germany|\n",
      "|        19|   1408|               Italy|\n",
      "+----------+-------+--------------------+\n",
      "only showing top 20 rows\n",
      "\n"
     ]
    }
   ],
   "source": [
    "\n",
    "# Countries\n",
    "prod_countries = meta\\\n",
    "    .withColumn('country', f.explode(f.col('prod_countries')))\\\n",
    "    .withColumn('country_id', monotonically_increasing_id())\\\n",
    "    .withColumnRenamed('id', 'film_id')\\\n",
    "    .select('country_id', 'film_id', 'country.name')\n",
    "\n",
    "prod_countries.show()"
   ]
  },
  {
   "cell_type": "code",
   "execution_count": 12,
   "metadata": {
    "pycharm": {
     "name": "#%%\n"
    }
   },
   "outputs": [
    {
     "name": "stdout",
     "output_type": "stream",
     "text": [
      "+-----+-------+---------+\n",
      "|   id|film_id|     name|\n",
      "+-----+-------+---------+\n",
      "|   16|    862|Animation|\n",
      "|   35|    862|   Comedy|\n",
      "|10751|    862|   Family|\n",
      "|   12|   8844|Adventure|\n",
      "|   14|   8844|  Fantasy|\n",
      "|10751|   8844|   Family|\n",
      "|10749|  15602|  Romance|\n",
      "|   35|  15602|   Comedy|\n",
      "|   35|  31357|   Comedy|\n",
      "|   18|  31357|    Drama|\n",
      "|10749|  31357|  Romance|\n",
      "|   35|  11862|   Comedy|\n",
      "|   28|    949|   Action|\n",
      "|   80|    949|    Crime|\n",
      "|   18|    949|    Drama|\n",
      "|   53|    949| Thriller|\n",
      "|   35|  11860|   Comedy|\n",
      "|10749|  11860|  Romance|\n",
      "|   28|  45325|   Action|\n",
      "|   12|  45325|Adventure|\n",
      "+-----+-------+---------+\n",
      "only showing top 20 rows\n",
      "\n"
     ]
    }
   ],
   "source": [
    "# Genres\n",
    "genres_schema = ArrayType(StructType([StructField('id',IntegerType(),True),\n",
    "                        StructField('name',StringType(),True)]))\n",
    "\n",
    "genres = meta\\\n",
    "    .withColumn('genres_schema', f.from_json('genres', genres_schema))\\\n",
    "    .withColumn('genres_explode', f.explode(f.col('genres_schema')))\\\n",
    "    .withColumnRenamed('id', 'film_id')\\\n",
    "    .select('genres_explode.id', 'film_id', 'genres_explode.name')\n",
    "\n",
    "genres.show()"
   ]
  },
  {
   "cell_type": "code",
   "execution_count": 13,
   "metadata": {
    "pycharm": {
     "name": "#%%\n"
    }
   },
   "outputs": [
    {
     "name": "stdout",
     "output_type": "stream",
     "text": [
      "+-----------+-------+--------------------+\n",
      "|homepage_id|film_id|            homepage|\n",
      "+-----------+-------+--------------------+\n",
      "|          0|    862|http://toystory.d...|\n",
      "|          1|   8844|                null|\n",
      "|          2|  15602|                null|\n",
      "|          3|  31357|                null|\n",
      "|          4|  11862|                null|\n",
      "|          5|    949|                null|\n",
      "|          6|  11860|                null|\n",
      "|          7|  45325|                null|\n",
      "|          8|   9091|                null|\n",
      "|          9|    710|http://www.mgm.co...|\n",
      "|         10|   9087|                null|\n",
      "|         11|  12110|                null|\n",
      "|         12|  21032|                null|\n",
      "|         13|  10858|                null|\n",
      "|         14|   1408|                null|\n",
      "|         15|    524|                null|\n",
      "|         16|   4584|                null|\n",
      "|         17|      5|                null|\n",
      "|         18|   9273|                null|\n",
      "|         19|  11517|                null|\n",
      "+-----------+-------+--------------------+\n",
      "only showing top 20 rows\n",
      "\n"
     ]
    }
   ],
   "source": [
    "# Homepages\n",
    "homepages = meta\\\n",
    "    .withColumn('homepage_id', monotonically_increasing_id())\\\n",
    "    .withColumnRenamed('id', 'film_id')\\\n",
    "    .select('homepage_id', 'film_id', 'homepage')\n",
    "\n",
    "homepages.show()"
   ]
  },
  {
   "cell_type": "code",
   "execution_count": 14,
   "metadata": {
    "pycharm": {
     "name": "#%%\n"
    }
   },
   "outputs": [
    {
     "name": "stdout",
     "output_type": "stream",
     "text": [
      "+---+-------+---------+\n",
      "| id|film_id|  imdb_id|\n",
      "+---+-------+---------+\n",
      "|  0|    862|tt0114709|\n",
      "|  1|   8844|tt0113497|\n",
      "|  2|  15602|tt0113228|\n",
      "|  3|  31357|tt0114885|\n",
      "|  4|  11862|tt0113041|\n",
      "|  5|    949|tt0113277|\n",
      "|  6|  11860|tt0114319|\n",
      "|  7|  45325|tt0112302|\n",
      "|  8|   9091|tt0114576|\n",
      "|  9|    710|tt0113189|\n",
      "| 10|   9087|tt0112346|\n",
      "| 11|  12110|tt0112896|\n",
      "| 12|  21032|tt0112453|\n",
      "| 13|  10858|tt0113987|\n",
      "| 14|   1408|tt0112760|\n",
      "| 15|    524|tt0112641|\n",
      "| 16|   4584|tt0114388|\n",
      "| 17|      5|tt0113101|\n",
      "| 18|   9273|tt0112281|\n",
      "| 19|  11517|tt0113845|\n",
      "+---+-------+---------+\n",
      "only showing top 20 rows\n",
      "\n"
     ]
    }
   ],
   "source": [
    "# imdb_id\n",
    "imdb_id = meta\\\n",
    "    .withColumnRenamed('id', 'film_id')\\\n",
    "    .withColumn('id', monotonically_increasing_id())\\\n",
    "    .select('id', 'film_id', 'imdb_id')\n",
    "\n",
    "imdb_id.show()"
   ]
  },
  {
   "cell_type": "code",
   "execution_count": 15,
   "metadata": {
    "pycharm": {
     "name": "#%%\n"
    }
   },
   "outputs": [
    {
     "name": "stdout",
     "output_type": "stream",
     "text": [
      "+---+-------+--------------------+\n",
      "| id|film_id|            overview|\n",
      "+---+-------+--------------------+\n",
      "|  0|    862|Led by Woody, And...|\n",
      "|  1|   8844|When siblings Jud...|\n",
      "|  2|  15602|A family wedding ...|\n",
      "|  3|  31357|Cheated on, mistr...|\n",
      "|  4|  11862|Just when George ...|\n",
      "|  5|    949|Obsessive master ...|\n",
      "|  6|  11860|An ugly duckling ...|\n",
      "|  7|  45325|A mischievous you...|\n",
      "|  8|   9091|International act...|\n",
      "|  9|    710|James Bond must u...|\n",
      "+---+-------+--------------------+\n",
      "\n"
     ]
    }
   ],
   "source": [
    "# Overview\n",
    "overview = meta\\\n",
    "    .withColumnRenamed('id', 'film_id')\\\n",
    "    .withColumn('id', monotonically_increasing_id())\\\n",
    "    .select('id', 'film_id', 'overview').limit(10)\n",
    "\n",
    "overview.show()"
   ]
  },
  {
   "cell_type": "code",
   "execution_count": 16,
   "metadata": {
    "pycharm": {
     "name": "#%%\n"
    }
   },
   "outputs": [
    {
     "name": "stdout",
     "output_type": "stream",
     "text": [
      "+---+-------+----------+\n",
      "| id|film_id|popularity|\n",
      "+---+-------+----------+\n",
      "|  0|    862| 21.946943|\n",
      "|  1|   8844| 17.015539|\n",
      "|  2|  15602|   11.7129|\n",
      "|  3|  31357|  3.859495|\n",
      "|  4|  11862|  8.387519|\n",
      "|  5|    949| 17.924927|\n",
      "|  6|  11860|  6.677277|\n",
      "|  7|  45325|  2.561161|\n",
      "|  8|   9091|   5.23158|\n",
      "|  9|    710| 14.686036|\n",
      "| 10|   9087|  6.318445|\n",
      "| 11|  12110|  5.430331|\n",
      "| 12|  21032| 12.140733|\n",
      "| 13|  10858|     5.092|\n",
      "| 14|   1408|  7.284477|\n",
      "| 15|    524| 10.137389|\n",
      "| 16|   4584| 10.673167|\n",
      "| 17|      5|  9.026586|\n",
      "| 18|   9273|  8.205448|\n",
      "| 19|  11517|  7.337906|\n",
      "+---+-------+----------+\n",
      "only showing top 20 rows\n",
      "\n"
     ]
    }
   ],
   "source": [
    "# Popularity\n",
    "popularity = meta\\\n",
    "    .withColumnRenamed('id', 'film_id')\\\n",
    "    .withColumn('id', monotonically_increasing_id())\\\n",
    "    .select('id', 'film_id', 'popularity')\n",
    "\n",
    "popularity.show()"
   ]
  },
  {
   "cell_type": "code",
   "execution_count": 17,
   "metadata": {
    "pycharm": {
     "name": "#%%\n"
    }
   },
   "outputs": [
    {
     "name": "stdout",
     "output_type": "stream",
     "text": [
      "+----------+-------+--------------------+\n",
      "|company_id|film_id|        company_name|\n",
      "+----------+-------+--------------------+\n",
      "|         0|    862|Pixar Animation S...|\n",
      "|         1|   8844|    TriStar Pictures|\n",
      "|         2|   8844|        Teitler Film|\n",
      "|         3|   8844|Interscope Commun...|\n",
      "|         4|  15602|        Warner Bros.|\n",
      "|         5|  15602|      Lancaster Gate|\n",
      "|         6|  31357|Twentieth Century...|\n",
      "|         7|  11862|Sandollar Product...|\n",
      "|         8|  11862| Touchstone Pictures|\n",
      "|         9|    949| Regency Enterprises|\n",
      "|        10|    949|        Forward Pass|\n",
      "|        11|    949|        Warner Bros.|\n",
      "|        12|  11860|  Paramount Pictures|\n",
      "|        13|  11860|Scott Rudin Produ...|\n",
      "|        14|  11860|  Mirage Enterprises|\n",
      "|        15|  11860|Sandollar Product...|\n",
      "|        16|  11860|Constellation Ent...|\n",
      "|        17|  11860|           Worldwide|\n",
      "|        18|  11860|Mont Blanc Entert...|\n",
      "|        19|  45325|Walt Disney Pictures|\n",
      "+----------+-------+--------------------+\n",
      "only showing top 20 rows\n",
      "\n",
      "+----------+-------+--------------------+\n",
      "|company_id|film_id|        company_name|\n",
      "+----------+-------+--------------------+\n",
      "|         0|    862|Pixar Animation S...|\n",
      "|         1|   8844|    TriStar Pictures|\n",
      "|         2|   8844|        Teitler Film|\n",
      "|         3|   8844|Interscope Commun...|\n",
      "|         4|  15602|        Warner Bros.|\n",
      "|         5|  15602|      Lancaster Gate|\n",
      "|         6|  31357|Twentieth Century...|\n",
      "|         7|  11862|Sandollar Product...|\n",
      "|         8|  11862| Touchstone Pictures|\n",
      "|         9|    949| Regency Enterprises|\n",
      "|        10|    949|        Forward Pass|\n",
      "|        11|    949|        Warner Bros.|\n",
      "|        12|  11860|  Paramount Pictures|\n",
      "|        13|  11860|Scott Rudin Produ...|\n",
      "|        14|  11860|  Mirage Enterprises|\n",
      "|        15|  11860|Sandollar Product...|\n",
      "|        16|  11860|Constellation Ent...|\n",
      "|        17|  11860|           Worldwide|\n",
      "|        18|  11860|Mont Blanc Entert...|\n",
      "|        19|  45325|Walt Disney Pictures|\n",
      "+----------+-------+--------------------+\n",
      "only showing top 20 rows\n",
      "\n"
     ]
    }
   ],
   "source": [
    "\n",
    "# Production Companies\n",
    "companies_schema = ArrayType(StructType([StructField('id',IntegerType(),True),\n",
    "                        StructField('name',StringType(),True)]))\n",
    "\n",
    "production_companies = prod_countries = meta\\\n",
    "    .withColumn('company', f.from_json(f.col('production_companies'), companies_schema))\\\n",
    "    .withColumn(\"company_name\", f.explode('company.name'))\\\n",
    "    .withColumn('company_id', monotonically_increasing_id())\\\n",
    "    .withColumnRenamed('id', 'film_id')\\\n",
    "    .select('company_id', 'film_id', 'company_name')\n",
    "\n",
    "prod_countries.show()\n",
    "\n",
    "production_companies.show()"
   ]
  },
  {
   "cell_type": "code",
   "execution_count": 18,
   "metadata": {
    "pycharm": {
     "name": "#%%\n"
    }
   },
   "outputs": [
    {
     "name": "stdout",
     "output_type": "stream",
     "text": [
      "+---+-------+------------+\n",
      "| id|film_id|release_date|\n",
      "+---+-------+------------+\n",
      "|  0|    862|  1995-10-30|\n",
      "|  1|   8844|  1995-12-15|\n",
      "|  2|  15602|  1995-12-22|\n",
      "|  3|  31357|  1995-12-22|\n",
      "|  4|  11862|  1995-02-10|\n",
      "|  5|    949|  1995-12-15|\n",
      "|  6|  11860|  1995-12-15|\n",
      "|  7|  45325|  1995-12-22|\n",
      "|  8|   9091|  1995-12-22|\n",
      "|  9|    710|  1995-11-16|\n",
      "| 10|   9087|  1995-11-17|\n",
      "| 11|  12110|  1995-12-22|\n",
      "| 12|  21032|  1995-12-22|\n",
      "| 13|  10858|  1995-12-22|\n",
      "| 14|   1408|  1995-12-22|\n",
      "| 15|    524|  1995-11-22|\n",
      "| 16|   4584|  1995-12-13|\n",
      "| 17|      5|  1995-12-09|\n",
      "| 18|   9273|  1995-11-10|\n",
      "| 19|  11517|  1995-11-21|\n",
      "+---+-------+------------+\n",
      "only showing top 20 rows\n",
      "\n"
     ]
    }
   ],
   "source": [
    "\n",
    "# Release Date\n",
    "release_date = meta\\\n",
    "    .withColumnRenamed('id', 'film_id')\\\n",
    "    .withColumn('id', monotonically_increasing_id())\\\n",
    "    .select('id', 'film_id', 'release_date')\n",
    "\n",
    "release_date.show()"
   ]
  },
  {
   "cell_type": "code",
   "execution_count": 19,
   "metadata": {
    "pycharm": {
     "name": "#%%\n"
    }
   },
   "outputs": [
    {
     "name": "stdout",
     "output_type": "stream",
     "text": [
      "+---+-------+---------+\n",
      "| id|film_id|  revenue|\n",
      "+---+-------+---------+\n",
      "|  0|    862|373554033|\n",
      "|  1|   8844|262797249|\n",
      "|  2|  15602|        0|\n",
      "|  3|  31357| 81452156|\n",
      "|  4|  11862| 76578911|\n",
      "|  5|    949|187436818|\n",
      "|  6|  11860|        0|\n",
      "|  7|  45325|        0|\n",
      "|  8|   9091| 64350171|\n",
      "|  9|    710|352194034|\n",
      "| 10|   9087|107879496|\n",
      "| 11|  12110|        0|\n",
      "| 12|  21032| 11348324|\n",
      "| 13|  10858| 13681765|\n",
      "| 14|   1408| 10017322|\n",
      "| 15|    524|116112375|\n",
      "| 16|   4584|135000000|\n",
      "| 17|      5|  4300000|\n",
      "| 18|   9273|212385533|\n",
      "| 19|  11517| 35431113|\n",
      "+---+-------+---------+\n",
      "only showing top 20 rows\n",
      "\n"
     ]
    }
   ],
   "source": [
    "\n",
    "# Revenue\n",
    "revenue = release_date = meta\\\n",
    "    .withColumnRenamed('id', 'film_id')\\\n",
    "    .withColumn('id', monotonically_increasing_id())\\\n",
    "    .select('id', 'film_id', 'revenue')\n",
    "\n",
    "revenue.show()"
   ]
  },
  {
   "cell_type": "code",
   "execution_count": 20,
   "metadata": {
    "pycharm": {
     "name": "#%%\n"
    }
   },
   "outputs": [
    {
     "name": "stdout",
     "output_type": "stream",
     "text": [
      "+---+-------+-------+\n",
      "| id|film_id|runtime|\n",
      "+---+-------+-------+\n",
      "|  0|    862|   81.0|\n",
      "|  1|   8844|  104.0|\n",
      "|  2|  15602|  101.0|\n",
      "|  3|  31357|  127.0|\n",
      "|  4|  11862|  106.0|\n",
      "|  5|    949|  170.0|\n",
      "|  6|  11860|  127.0|\n",
      "|  7|  45325|   97.0|\n",
      "|  8|   9091|  106.0|\n",
      "|  9|    710|  130.0|\n",
      "| 10|   9087|  106.0|\n",
      "| 11|  12110|   88.0|\n",
      "| 12|  21032|   78.0|\n",
      "| 13|  10858|  192.0|\n",
      "| 14|   1408|  119.0|\n",
      "| 15|    524|  178.0|\n",
      "| 16|   4584|  136.0|\n",
      "| 17|      5|   98.0|\n",
      "| 18|   9273|   90.0|\n",
      "| 19|  11517|  103.0|\n",
      "+---+-------+-------+\n",
      "only showing top 20 rows\n",
      "\n"
     ]
    }
   ],
   "source": [
    "# Runtime\n",
    "runtime = release_date = meta\\\n",
    "    .withColumnRenamed('id', 'film_id')\\\n",
    "    .withColumn('id', monotonically_increasing_id())\\\n",
    "    .select('id', 'film_id', 'runtime')\n",
    "\n",
    "runtime.show()"
   ]
  },
  {
   "cell_type": "code",
   "execution_count": 21,
   "metadata": {
    "pycharm": {
     "name": "#%%\n"
    }
   },
   "outputs": [
    {
     "ename": "AnalysisException",
     "evalue": "filter expression 'spoken_languages' of type string is not a boolean.;\nFilter spoken_languages#95: string\n+- Project [spoken_languages#95]\n   +- Project [adult#78, belongs_to_collection#79, budget#80, genres#81, homepage#82, id#83, imdb_id#84, original_language#85, original_title#86, overview#87, popularity#88, poster_path#89, production_companies#90, production_countries#176, release_date#92, revenue#93, runtime#94, spoken_languages#95, status#96, tagline#97, title#98, video#99, vote_average#100, vote_count#101, from_json(ArrayType(StructType(StructField(iso_3166_1,StringType,true), StructField(name,StringType,true)),true), production_countries#176, Some(Asia/Tbilisi)) AS prod_countries#235]\n      +- Project [adult#78, belongs_to_collection#79, budget#80, genres#81, homepage#82, id#83, imdb_id#84, original_language#85, original_title#86, overview#87, popularity#88, poster_path#89, production_companies#90, regexp_replace(production_countries#151, \\\\,  , 1) AS production_countries#176, release_date#92, revenue#93, runtime#94, spoken_languages#95, status#96, tagline#97, title#98, video#99, vote_average#100, vote_count#101]\n         +- Project [adult#78, belongs_to_collection#79, budget#80, genres#81, homepage#82, id#83, imdb_id#84, original_language#85, original_title#86, overview#87, popularity#88, poster_path#89, production_companies#90, regexp_replace(production_countries#126, \\\\',  , 1) AS production_countries#151, release_date#92, revenue#93, runtime#94, spoken_languages#95, status#96, tagline#97, title#98, video#99, vote_average#100, vote_count#101]\n            +- Project [adult#78, belongs_to_collection#79, budget#80, genres#81, homepage#82, id#83, imdb_id#84, original_language#85, original_title#86, overview#87, popularity#88, poster_path#89, production_companies#90, regexp_replace(production_countries#91, : None, : null, 1) AS production_countries#126, release_date#92, revenue#93, runtime#94, spoken_languages#95, status#96, tagline#97, title#98, video#99, vote_average#100, vote_count#101]\n               +- Filter NOT imdb_id#84 IN (0,tt0113002,tt2423504,tt2622826)\n                  +- Relation [adult#78,belongs_to_collection#79,budget#80,genres#81,homepage#82,id#83,imdb_id#84,original_language#85,original_title#86,overview#87,popularity#88,poster_path#89,production_companies#90,production_countries#91,release_date#92,revenue#93,runtime#94,spoken_languages#95,status#96,tagline#97,title#98,video#99,vote_average#100,vote_count#101] csv\n",
     "output_type": "error",
     "traceback": [
      "\u001b[0;31m---------------------------------------------------------------------------\u001b[0m",
      "\u001b[0;31mAnalysisException\u001b[0m                         Traceback (most recent call last)",
      "\u001b[0;32m/tmp/ipykernel_13058/3881687177.py\u001b[0m in \u001b[0;36m<module>\u001b[0;34m\u001b[0m\n\u001b[1;32m      3\u001b[0m                         StructField('name',StringType(),True)]))\n\u001b[1;32m      4\u001b[0m \u001b[0;34m\u001b[0m\u001b[0m\n\u001b[0;32m----> 5\u001b[0;31m \u001b[0mmeta\u001b[0m\u001b[0;34m.\u001b[0m\u001b[0mselect\u001b[0m\u001b[0;34m(\u001b[0m\u001b[0;34m'spoken_languages'\u001b[0m\u001b[0;34m)\u001b[0m\u001b[0;34m.\u001b[0m\u001b[0mwhere\u001b[0m\u001b[0;34m(\u001b[0m\u001b[0mf\u001b[0m\u001b[0;34m.\u001b[0m\u001b[0mcol\u001b[0m\u001b[0;34m(\u001b[0m\u001b[0;34m'spoken_languages'\u001b[0m\u001b[0;34m)\u001b[0m\u001b[0;34m)\u001b[0m\u001b[0;34m.\u001b[0m\u001b[0mshow\u001b[0m\u001b[0;34m(\u001b[0m\u001b[0;34m)\u001b[0m\u001b[0;34m\u001b[0m\u001b[0;34m\u001b[0m\u001b[0m\n\u001b[0m\u001b[1;32m      6\u001b[0m \u001b[0;34m\u001b[0m\u001b[0m\n\u001b[1;32m      7\u001b[0m \u001b[0;31m# spoken_languages = prod_countries = meta\\\u001b[0m\u001b[0;34m\u001b[0m\u001b[0;34m\u001b[0m\u001b[0;34m\u001b[0m\u001b[0m\n",
      "\u001b[0;32m~/.local/lib/python3.8/site-packages/pyspark/sql/dataframe.py\u001b[0m in \u001b[0;36mfilter\u001b[0;34m(self, condition)\u001b[0m\n\u001b[1;32m   1731\u001b[0m             \u001b[0mjdf\u001b[0m \u001b[0;34m=\u001b[0m \u001b[0mself\u001b[0m\u001b[0;34m.\u001b[0m\u001b[0m_jdf\u001b[0m\u001b[0;34m.\u001b[0m\u001b[0mfilter\u001b[0m\u001b[0;34m(\u001b[0m\u001b[0mcondition\u001b[0m\u001b[0;34m)\u001b[0m\u001b[0;34m\u001b[0m\u001b[0;34m\u001b[0m\u001b[0m\n\u001b[1;32m   1732\u001b[0m         \u001b[0;32melif\u001b[0m \u001b[0misinstance\u001b[0m\u001b[0;34m(\u001b[0m\u001b[0mcondition\u001b[0m\u001b[0;34m,\u001b[0m \u001b[0mColumn\u001b[0m\u001b[0;34m)\u001b[0m\u001b[0;34m:\u001b[0m\u001b[0;34m\u001b[0m\u001b[0;34m\u001b[0m\u001b[0m\n\u001b[0;32m-> 1733\u001b[0;31m             \u001b[0mjdf\u001b[0m \u001b[0;34m=\u001b[0m \u001b[0mself\u001b[0m\u001b[0;34m.\u001b[0m\u001b[0m_jdf\u001b[0m\u001b[0;34m.\u001b[0m\u001b[0mfilter\u001b[0m\u001b[0;34m(\u001b[0m\u001b[0mcondition\u001b[0m\u001b[0;34m.\u001b[0m\u001b[0m_jc\u001b[0m\u001b[0;34m)\u001b[0m\u001b[0;34m\u001b[0m\u001b[0;34m\u001b[0m\u001b[0m\n\u001b[0m\u001b[1;32m   1734\u001b[0m         \u001b[0;32melse\u001b[0m\u001b[0;34m:\u001b[0m\u001b[0;34m\u001b[0m\u001b[0;34m\u001b[0m\u001b[0m\n\u001b[1;32m   1735\u001b[0m             \u001b[0;32mraise\u001b[0m \u001b[0mTypeError\u001b[0m\u001b[0;34m(\u001b[0m\u001b[0;34m\"condition should be string or Column\"\u001b[0m\u001b[0;34m)\u001b[0m\u001b[0;34m\u001b[0m\u001b[0;34m\u001b[0m\u001b[0m\n",
      "\u001b[0;32m~/.local/lib/python3.8/site-packages/py4j/java_gateway.py\u001b[0m in \u001b[0;36m__call__\u001b[0;34m(self, *args)\u001b[0m\n\u001b[1;32m   1307\u001b[0m \u001b[0;34m\u001b[0m\u001b[0m\n\u001b[1;32m   1308\u001b[0m         \u001b[0manswer\u001b[0m \u001b[0;34m=\u001b[0m \u001b[0mself\u001b[0m\u001b[0;34m.\u001b[0m\u001b[0mgateway_client\u001b[0m\u001b[0;34m.\u001b[0m\u001b[0msend_command\u001b[0m\u001b[0;34m(\u001b[0m\u001b[0mcommand\u001b[0m\u001b[0;34m)\u001b[0m\u001b[0;34m\u001b[0m\u001b[0;34m\u001b[0m\u001b[0m\n\u001b[0;32m-> 1309\u001b[0;31m         return_value = get_return_value(\n\u001b[0m\u001b[1;32m   1310\u001b[0m             answer, self.gateway_client, self.target_id, self.name)\n\u001b[1;32m   1311\u001b[0m \u001b[0;34m\u001b[0m\u001b[0m\n",
      "\u001b[0;32m~/.local/lib/python3.8/site-packages/pyspark/sql/utils.py\u001b[0m in \u001b[0;36mdeco\u001b[0;34m(*a, **kw)\u001b[0m\n\u001b[1;32m    115\u001b[0m                 \u001b[0;31m# Hide where the exception came from that shows a non-Pythonic\u001b[0m\u001b[0;34m\u001b[0m\u001b[0;34m\u001b[0m\u001b[0;34m\u001b[0m\u001b[0m\n\u001b[1;32m    116\u001b[0m                 \u001b[0;31m# JVM exception message.\u001b[0m\u001b[0;34m\u001b[0m\u001b[0;34m\u001b[0m\u001b[0;34m\u001b[0m\u001b[0m\n\u001b[0;32m--> 117\u001b[0;31m                 \u001b[0;32mraise\u001b[0m \u001b[0mconverted\u001b[0m \u001b[0;32mfrom\u001b[0m \u001b[0;32mNone\u001b[0m\u001b[0;34m\u001b[0m\u001b[0;34m\u001b[0m\u001b[0m\n\u001b[0m\u001b[1;32m    118\u001b[0m             \u001b[0;32melse\u001b[0m\u001b[0;34m:\u001b[0m\u001b[0;34m\u001b[0m\u001b[0;34m\u001b[0m\u001b[0m\n\u001b[1;32m    119\u001b[0m                 \u001b[0;32mraise\u001b[0m\u001b[0;34m\u001b[0m\u001b[0;34m\u001b[0m\u001b[0m\n",
      "\u001b[0;31mAnalysisException\u001b[0m: filter expression 'spoken_languages' of type string is not a boolean.;\nFilter spoken_languages#95: string\n+- Project [spoken_languages#95]\n   +- Project [adult#78, belongs_to_collection#79, budget#80, genres#81, homepage#82, id#83, imdb_id#84, original_language#85, original_title#86, overview#87, popularity#88, poster_path#89, production_companies#90, production_countries#176, release_date#92, revenue#93, runtime#94, spoken_languages#95, status#96, tagline#97, title#98, video#99, vote_average#100, vote_count#101, from_json(ArrayType(StructType(StructField(iso_3166_1,StringType,true), StructField(name,StringType,true)),true), production_countries#176, Some(Asia/Tbilisi)) AS prod_countries#235]\n      +- Project [adult#78, belongs_to_collection#79, budget#80, genres#81, homepage#82, id#83, imdb_id#84, original_language#85, original_title#86, overview#87, popularity#88, poster_path#89, production_companies#90, regexp_replace(production_countries#151, \\\\,  , 1) AS production_countries#176, release_date#92, revenue#93, runtime#94, spoken_languages#95, status#96, tagline#97, title#98, video#99, vote_average#100, vote_count#101]\n         +- Project [adult#78, belongs_to_collection#79, budget#80, genres#81, homepage#82, id#83, imdb_id#84, original_language#85, original_title#86, overview#87, popularity#88, poster_path#89, production_companies#90, regexp_replace(production_countries#126, \\\\',  , 1) AS production_countries#151, release_date#92, revenue#93, runtime#94, spoken_languages#95, status#96, tagline#97, title#98, video#99, vote_average#100, vote_count#101]\n            +- Project [adult#78, belongs_to_collection#79, budget#80, genres#81, homepage#82, id#83, imdb_id#84, original_language#85, original_title#86, overview#87, popularity#88, poster_path#89, production_companies#90, regexp_replace(production_countries#91, : None, : null, 1) AS production_countries#126, release_date#92, revenue#93, runtime#94, spoken_languages#95, status#96, tagline#97, title#98, video#99, vote_average#100, vote_count#101]\n               +- Filter NOT imdb_id#84 IN (0,tt0113002,tt2423504,tt2622826)\n                  +- Relation [adult#78,belongs_to_collection#79,budget#80,genres#81,homepage#82,id#83,imdb_id#84,original_language#85,original_title#86,overview#87,popularity#88,poster_path#89,production_companies#90,production_countries#91,release_date#92,revenue#93,runtime#94,spoken_languages#95,status#96,tagline#97,title#98,video#99,vote_average#100,vote_count#101] csv\n"
     ]
    }
   ],
   "source": [
    "\n",
    "\n",
    "# Spoken Languages\n",
    "languages_schema =  ArrayType(StructType([StructField('iso_639_1',IntegerType(),True),\n",
    "                        StructField('name',StringType(),True)]))\n",
    "\n",
    "meta.select('spoken_languages').where(f.col('spoken_languages')).show()\n",
    "\n",
    "# spoken_languages = prod_countries = meta\\\n",
    "#     .withColumn('languages', f.from_json(f.col('spoken_languages'), languages_schema))\\\n",
    "#     .withColumn(\"spoken_languages\", f.explode('languages.name'))\\\n",
    "#     .withColumn('languages_id', monotonically_increasing_id())\\\n",
    "#     .withColumnRenamed('id', 'film_id')\\\n",
    "#     .select('languages_id', 'film_id', 'spoken_languages.name')\n",
    "\n",
    "# spoken_languages.show()"
   ]
  },
  {
   "cell_type": "code",
   "execution_count": null,
   "metadata": {
    "pycharm": {
     "name": "#%%\n"
    }
   },
   "outputs": [],
   "source": [
    "\n",
    "# Status\n",
    "status = meta\\\n",
    "    .withColumnRenamed('id', 'film_id')\\\n",
    "    .withColumn('id', monotonically_increasing_id())\\\n",
    "    .select('id', 'film_id', 'status')\n",
    "\n",
    "status.show()"
   ]
  },
  {
   "cell_type": "code",
   "execution_count": null,
   "metadata": {
    "pycharm": {
     "name": "#%%\n"
    }
   },
   "outputs": [],
   "source": [
    "\n",
    "# Vote Average\n",
    "\n",
    "vote_average = meta\\\n",
    "    .withColumnRenamed('id', 'film_id')\\\n",
    "    .withColumn('id', monotonically_increasing_id())\\\n",
    "    .select('id', 'film_id', 'vote_average')\n",
    "\n",
    "vote_average.show()"
   ]
  },
  {
   "cell_type": "code",
   "execution_count": null,
   "metadata": {
    "pycharm": {
     "name": "#%%\n"
    }
   },
   "outputs": [],
   "source": [
    "\n",
    "# Vote Count\n",
    "vote_count = meta\\\n",
    "    .withColumnRenamed('id', 'film_id')\\\n",
    "    .withColumn('id', monotonically_increasing_id())\\\n",
    "    .select('id', 'film_id', 'vote_count')\n",
    "\n",
    "vote_count.show()"
   ]
  }
 ],
 "metadata": {
  "colab": {
   "collapsed_sections": [],
   "name": "JSONStringArraysToCols.ipynb",
   "provenance": []
  },
  "kernelspec": {
   "display_name": "Python 3 (ipykernel)",
   "language": "python",
   "name": "python3"
  },
  "language_info": {
   "codemirror_mode": {
    "name": "ipython",
    "version": 3
   },
   "file_extension": ".py",
   "mimetype": "text/x-python",
   "name": "python",
   "nbconvert_exporter": "python",
   "pygments_lexer": "ipython3",
   "version": "3.8.10"
  }
 },
 "nbformat": 4,
 "nbformat_minor": 1
}
